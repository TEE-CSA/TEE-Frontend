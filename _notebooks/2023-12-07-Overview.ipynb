{
 "cells": [
  {
   "cell_type": "markdown",
   "metadata": {},
   "source": [
    "---\n",
    "title: jQuery and CRUD Principles Lesson Overview \n",
    "description: Our lesson on jQuery and CRUD!\n",
    "type: plan\n",
    "courses: { csa: {week: 15} }\n",
    "---"
   ]
  },
  {
   "cell_type": "markdown",
   "metadata": {},
   "source": [
    "# Overview of Today's Lesson\n",
    "\n",
    "- jQuery\n",
    "    - What is jQuery?\n",
    "    - What is jQuery used for?\n",
    "    - Demonstration of application in markdown and HTML tables\n",
    "        - Be able to explain similarities and/or differences between markdown and HTML tables\n",
    "- CRUD principles\n",
    "    - What does CRUD stand for?\n",
    "    - How can CRUD be applied to jQuery and beyond?\n",
    "    - Show demonstration of applying CRUD to tables created\n",
    "- Hacks (tentative)\n",
    "    - A quiz that covers the concepts taught \n",
    "    - Creating their own table with jQuery and explaining how it works\n",
    "    - Extra: create something completely unique using jQuery and CRUD, explaining how the project applies the two"
   ]
  },
  {
   "cell_type": "markdown",
   "metadata": {},
   "source": [
    "# What is jQuery?\n",
    "\n",
    "Any volunteers?\n",
    "\n",
    "Essentially, jQuery is a library that allows us to use some of JavaScript's built in functions. Think of it as one of the lines you could see at the very top of a code file along with many other import statements. "
   ]
  },
  {
   "cell_type": "markdown",
   "metadata": {},
   "source": [
    "## Benefits of jQuery\n",
    "\n",
    "Some benefits of jQuery include but are not limited to:\n",
    "\n",
    "- Makes it easier for us to write JavaScript and HTML code\n",
    "- Very flexible in terms of which browsers it can work on\n",
    "- Simplifies some of the most common JavaScript functions into fewer lines of code\n",
    "\n",
    "**Question:** What are some real life applications of jQuery? Name at least two you can think of. "
   ]
  },
  {
   "cell_type": "markdown",
   "metadata": {},
   "source": [
    "## Basic Syntax\n",
    "\n",
    "Whenever you are working with jQuery, the most basic format you will you use is the following:\n",
    "\n",
    "```$(selector).action()```\n",
    "\n",
    "Some examples of these include:\n",
    "\n",
    "```$(this).hide()``` - hides the current element.\n",
    "\n",
    "\n",
    "```$(\"p\").hide()``` - hides all <p> elements.\n",
    "\n",
    "\n",
    "```$(\".test\").hide()``` - hides all elements with class=\"test\".\n",
    "\n",
    "\n",
    "```$(\"#test\").hide()``` - hides the element with id=\"test\"."
   ]
  },
  {
   "cell_type": "markdown",
   "metadata": {},
   "source": [
    "## Using JQuery with APIs\n",
    "\n",
    "Using an online movie database"
   ]
  },
  {
   "cell_type": "code",
   "execution_count": null,
   "metadata": {
    "vscode": {
     "languageId": "html"
    }
   },
   "outputs": [],
   "source": [
    "<html>\n",
    "<head>\n",
    "  <link rel=\"stylesheet\" type=\"text/css\" href=\"https://cdn.datatables.net/1.10.25/css/jquery.dataTables.min.css\">\n",
    "    <style>\n",
    "    body {\n",
    "      font-family: Arial, sans-serif;\n",
    "    }\n",
    "    .container {\n",
    "      max-width: 600px;\n",
    "      margin: 0 auto;\n",
    "      padding: 20px;\n",
    "    }\n",
    "    h1 {\n",
    "      text-align: center;\n",
    "    }\n",
    "    form {\n",
    "      margin-bottom: 20px;\n",
    "    }\n",
    "    input[type=\"text\"] {\n",
    "      width: 100%;\n",
    "      padding: 10px;\n",
    "      font-size: 16px;\n",
    "      border-radius: 4px;\n",
    "      border: 1px solid #ccc;\n",
    "    }\n",
    "    button {\n",
    "      padding: 10px 20px;\n",
    "      font-size: 16px;\n",
    "      border-radius: 4px;\n",
    "      background-color: #4CAF50;\n",
    "      color: #fff;\n",
    "      border: none;\n",
    "      cursor: pointer;\n",
    "    }\n",
    "    .movie-container {\n",
    "      margin-bottom: 20px;\n",
    "    }\n",
    "    .movie-series-table {\n",
    "      width: 100%;\n",
    "      border-collapse: collapse;\n",
    "    }\n",
    "    .movie-series-table th,\n",
    "    .movie-series-table td {\n",
    "      padding: 8px;\n",
    "      text-align: left;\n",
    "      border-bottom: 1px solid #ddd;\n",
    "    }\n",
    "    .movie-series-table th {\n",
    "      background-color: #f2f2f2;\n",
    "    }\n",
    "  </style>\n",
    "</head>\n",
    "<body>\n",
    "  <h1>Movie Search</h1>\n",
    "\n",
    "  <h2>Search for a Movie Series</h2>\n",
    "  <form id=\"seriesForm\">\n",
    "    <input type=\"text\" id=\"seriesInput\" placeholder=\"Enter series title\">\n",
    "    <button type=\"submit\">Search</button>\n",
    "  </form>\n",
    "  <div id=\"seriesContainer\"></div>\n",
    "\n",
    "  <script src=\"https://code.jquery.com/jquery-3.6.0.min.js\"></script>\n",
    "  <script src=\"https://cdn.datatables.net/1.10.25/js/jquery.dataTables.min.js\"></script>\n",
    "  <script>\n",
    "    function fetchMovieSeriesData(seriesTitle) {\n",
    "      var apiUrl = \"https://api.themoviedb.org/3/search/movie?api_key=5f87798890b72c6ac53b262ba43ed8c6&query=\" + encodeURIComponent(seriesTitle); \n",
    "      var request = new XMLHttpRequest(); // requests data\n",
    "      request.open(\"GET\", apiUrl, true); // fetches the data from the url\n",
    "      request.onload = function() { \n",
    "        if (request.status === 200) { // if request is successful - more specific than before\n",
    "          var data = JSON.parse(request.responseText); // JS variable from JSON data\n",
    "          fetchSeriesMovieData(data);\n",
    "        } else {\n",
    "          document.getElementById(\"seriesContainer\").textContent = \"Error fetching movie series data.\";\n",
    "        }\n",
    "      };\n",
    "      request.onerror = function() {\n",
    "        document.getElementById(\"seriesContainer\").textContent = \"Error fetching movie series data.\";\n",
    "      };\n",
    "      request.send();\n",
    "    }\n",
    "    function fetchSeriesMovieData(data) {\n",
    "      if (data.results && data.results.length > 0) { // checks that data contains info and is not empty\n",
    "        var movieSeries = data.results;\n",
    "        var creditsDataPromises = movieSeries.map(function(movie) { // creates an array of promises, which each fetch data for a movie in the series through a separate API request\n",
    "          var apiUrl = \"https://api.themoviedb.org/3/movie/\" + movie.id + \"/credits?api_key=5f87798890b72c6ac53b262ba43ed8c6\";\n",
    "          return fetch(apiUrl).then(function(response) { // each request from each promise\n",
    "            return response.json();\n",
    "          });\n",
    "        });\n",
    "        Promise.all(creditsDataPromises).then(function(creditsData) { // All promises are resolved and a new function is called with the movies series and the data\n",
    "          displayMovieSeriesData(movieSeries, creditsData);  \n",
    "        }).catch(function(error) { // if an error appears\n",
    "          document.getElementById(\"seriesContainer\").textContent = \"Error fetching movie series data.\";\n",
    "        });\n",
    "      } else {\n",
    "        document.getElementById(\"seriesContainer\").textContent = \"No movie series found.\";\n",
    "      }\n",
    "    }\n",
    "    function displayMovieSeriesData(movieSeries, creditsData) {\n",
    "      var table = $(\"<table>\").addClass(\"movie-series-table\");\n",
    "      var tableHeader = table.createTHead(); // a header is created \n",
    "      var headerRow = tableHeader.insertRow(); // Rows are added to the table\n",
    "      var columns = [\"Title\", \"Popularity\", \"Vote Count\", \"Vote Average\", \"Poster\"]; // column titles\n",
    "      for (var i = 0; i < columns.length; i++) { // iterates through column array and continues until i is greater than length of columns\n",
    "      // basically, rows are created for every column\n",
    "        var th = $(\"<th>\").text(columns[i]);\n",
    "        headerRow.appendChild(th); // the rows are displayed\n",
    "      }\n",
    "      var tableBody = table.createTBody(); // the body of the table is created\n",
    "      for (var j = 0; j < movieSeries.length; j++) { // another for loop but iterates through the data\n",
    "      // this way, every single row with contain data since the loop stops once all the data is iterated through\n",
    "        var movie = movieSeries[j]; // the data is assigned to a variable\n",
    "        var row = tableBody.insertRow(); // rows are added to the body\n",
    "        var titleCell = row.insertCell(); \n",
    "        titleCell.textContent = movie.title; // the title is displayed in new cells at the rows\n",
    "        var popularityCell = row.insertCell();\n",
    "        popularityCell.textContent = movie.popularity; // the popularity is displayed\n",
    "        var voteCountCell = row.insertCell();\n",
    "        voteCountCell.textContent = movie.vote_count; // the vote count is displayed\n",
    "        var voteAverageCell = row.insertCell();\n",
    "        voteAverageCell.textContent = movie.vote_average; // the vote average is displayed\n",
    "        var posterCell = row.insertCell();\n",
    "        var posterImage = $(\"<img>\")\n",
    "          .attr(\"src\", \"https://image.tmdb.org/t/p/w200\" + movie.poster_path)\n",
    "          .attr(\"alt\", \"Movie Poster\");\n",
    "        posterCell.appendChild(posterImage);\n",
    "      }\n",
    "      document.getElementById(\"seriesContainer\").appendChild(table);\n",
    "      $('.movie-series-table').DataTable();\n",
    "    } \n",
    "    document.getElementById(\"seriesForm\").addEventListener(\"submit\", function(event) {\n",
    "      event.preventDefault();\n",
    "      var seriesTitle = document.getElementById(\"seriesInput\").value;\n",
    "      fetchMovieSeriesData(seriesTitle);\n",
    "    });\n",
    "  </script>\n",
    "</body>\n",
    "</html>"
   ]
  },
  {
   "cell_type": "markdown",
   "metadata": {},
   "source": [
    "As you can see, JQuery can be used with APIs to create a more user friendly output and also makes it easier to work with API's and code. It also allows for DOM manipulation and event handling (to be covered later). Overall, JQuery is a very powerful tool that can be used to help with coding and ensure better user experience.\n",
    "\n",
    "### Comparison\n",
    "\n",
    "Without JQuery:"
   ]
  },
  {
   "cell_type": "code",
   "execution_count": null,
   "metadata": {
    "vscode": {
     "languageId": "html"
    }
   },
   "outputs": [],
   "source": [
    "<script>\n",
    "    var posterImage = document.createElement(\"img\");\n",
    "    posterImage.src = \"https://image.tmdb.org/t/p/w200\" + movie.poster_path;\n",
    "    posterImage.alt = \"Movie Poster\";\n",
    "</script>"
   ]
  },
  {
   "cell_type": "markdown",
   "metadata": {},
   "source": [
    "With JQuery:"
   ]
  },
  {
   "cell_type": "code",
   "execution_count": null,
   "metadata": {
    "vscode": {
     "languageId": "html"
    }
   },
   "outputs": [],
   "source": [
    "<script>\n",
    "    var posterImage = $(\"<img>\")\n",
    "      .attr(\"src\", \"https://image.tmdb.org/t/p/w200\" + movie.poster_path)\n",
    "      .attr(\"alt\", \"Movie Poster\");\n",
    "    posterCell.appendChild(posterImage);\n",
    "</script>"
   ]
  }
 ],
 "metadata": {
  "kernelspec": {
   "display_name": "base",
   "language": "python",
   "name": "python3"
  },
  "language_info": {
   "codemirror_mode": {
    "name": "ipython",
    "version": 3
   },
   "file_extension": ".py",
   "mimetype": "text/x-python",
   "name": "python",
   "nbconvert_exporter": "python",
   "pygments_lexer": "ipython3",
   "version": "3.9.12"
  }
 },
 "nbformat": 4,
 "nbformat_minor": 2
}
