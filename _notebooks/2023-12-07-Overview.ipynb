{
 "cells": [
  {
   "cell_type": "markdown",
   "metadata": {},
   "source": [
    "---\n",
    "title: jQuery and CRUD Principles Lesson Overview \n",
    "description: Our lesson on jQuery and CRUD!\n",
    "type: plan\n",
    "courses: { csa: {week: 15} }\n",
    "---"
   ]
  },
  {
   "cell_type": "markdown",
   "metadata": {},
   "source": [
    "# Overview of Today's Lesson\n",
    "\n",
    "- jQuery\n",
    "    - What is jQuery?\n",
    "    - What is jQuery used for?\n",
    "    - Demonstration of application in markdown and HTML tables\n",
    "        - Be able to explain similarities and/or differences between markdown and HTML tables\n",
    "- CRUD principles\n",
    "    - What does CRUD stand for?\n",
    "    - How can CRUD be applied to jQuery and beyond?\n",
    "    - Show demonstration of applying CRUD to tables created\n",
    "- Hacks (tentative)\n",
    "    - A quiz that covers the concepts taught \n",
    "    - Creating their own table with jQuery and explaining how it works\n",
    "    - Extra: create something completely unique using jQuery and CRUD, explaining how the project applies the two"
   ]
  },
  {
   "cell_type": "markdown",
   "metadata": {},
   "source": [
    "# What is jQuery?\n",
    "\n",
    "Any volunteers?\n",
    "\n",
    "Essentially, jQuery is a library that allows us to use some of JavaScript's built in functions. Think of it as one of the lines you could see at the very top of a code file along with many other import statements. "
   ]
  },
  {
   "cell_type": "markdown",
   "metadata": {},
   "source": [
    "## Benefits of jQuery\n",
    "\n",
    "Some benefits of jQuery include but are not limited to:\n",
    "\n",
    "- Makes it easier for us to write JavaScript and HTML code\n",
    "- Very flexible in terms of which browsers it can work on\n",
    "- Simplifies some of the most common JavaScript functions into fewer lines of code\n",
    "\n",
    "**Question:** What are some real life applications of jQuery? Name at least two you can think of. "
   ]
  },
  {
   "cell_type": "markdown",
   "metadata": {},
   "source": [
    "## Basic Syntax\n",
    "\n",
    "Whenever you are working with jQuery, the most basic format you will you use is the following:\n",
    "\n",
    "```$(selector).action()```\n",
    "\n",
    "Some examples of these include:\n",
    "\n",
    "```$(this).hide()``` - hides the current element.\n",
    "\n",
    "\n",
    "```$(\"p\").hide()``` - hides all <p> elements.\n",
    "\n",
    "\n",
    "```$(\".test\").hide()``` - hides all elements with class=\"test\".\n",
    "\n",
    "\n",
    "```$(\"#test\").hide()``` - hides the element with id=\"test\"."
   ]
  }
 ],
 "metadata": {
  "kernelspec": {
   "display_name": "Java",
   "language": "java",
   "name": "java"
  },
  "language_info": {
   "codemirror_mode": "java",
   "file_extension": ".jshell",
   "mimetype": "text/x-java-source",
   "name": "Java",
   "pygments_lexer": "java",
   "version": "20.0.2+9"
  }
 },
 "nbformat": 4,
 "nbformat_minor": 2
}
