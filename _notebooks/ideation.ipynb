{
 "cells": [
  {
   "cell_type": "markdown",
   "metadata": {},
   "source": [
    "---\n",
    "title: Mini-Project Ideation and Planning\n",
    "description: Blog about plans\n",
    "type: plan\n",
    "courses: { csa: {week 1} }\n",
    "---"
   ]
  }
 ],
 "metadata": {
  "language_info": {
   "name": "python"
  }
 },
 "nbformat": 4,
 "nbformat_minor": 2
}
