{
 "cells": [
  {
   "cell_type": "markdown",
   "metadata": {},
   "source": [
    "---\n",
    "title: Mini-Project Ideation and Planning\n",
    "description: Blog about plans\n",
    "type: plan\n",
    "courses: { csa: {week 1} }\n",
    "---"
   ]
  },
  {
   "cell_type": "markdown",
   "metadata": {},
   "source": [
    "## Our Idea\n",
    "\n",
    "We want to create a multiplayer quiz game in which sorting algorithms play a major role in the gameplay. We plan to use different types of sorting algorithms for the different components of the project, and which ones we decide to use will depend on the ones that we see as the most efficient or appropriate for that task.\n",
    "\n",
    "We are thinking of using bubble sort for the leaderboard, which will essentially just update the leaderboard in real time to properly reflect the list of players and their scores sorted from greatest to least. Below is an example of the kind of leaderboard we will use for our multiplayer quiz game:"
   ]
  }
 ],
 "metadata": {
  "language_info": {
   "name": "python"
  }
 },
 "nbformat": 4,
 "nbformat_minor": 2
}
