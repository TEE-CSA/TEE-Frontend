{
 "cells": [
  {
   "cell_type": "markdown",
   "metadata": {},
   "source": [
    "# Mini-Project Ideation and Planning\n",
    "> Blog about plans\n",
    "- toc: true,\n",
    "- categories: [],\n",
    "- courses: { csa: {week 1} }"
   ]
  }
 ],
 "metadata": {
  "language_info": {
   "name": "python"
  }
 },
 "nbformat": 4,
 "nbformat_minor": 2
}
