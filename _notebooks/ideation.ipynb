{
 "cells": [
  {
   "cell_type": "markdown",
   "metadata": {},
   "source": [
    "---\n",
    "title: Mini-Project Ideation and Planning\n",
    "description: Blog about plans\n",
    "type: plan\n",
    "courses: { csa: {week 1} }\n",
    "---"
   ]
  },
  {
   "cell_type": "markdown",
   "metadata": {},
   "source": [
    "## Our Idea\n",
    "\n",
    "We want to create a multiplayer quiz game in which sorting algorithms play a major role in the gameplay. We plan to use different types of sorting algorithms for the different components of the project, and which ones we decide to use will depend on the ones that we see as the most efficient or appropriate for that task.\n",
    "\n",
    "We are thinking of using bubble sort for the leaderboard, which will essentially just update the leaderboard in real time to properly reflect the list of players and their scores sorted from greatest to least. Below is an example of the kind of leaderboard we will use for our multiplayer quiz game:"
   ]
  },
  {
   "cell_type": "markdown",
   "metadata": {},
   "source": [
    "### Example Code\n",
    "\n",
    "The code below shows backend Java code for sorting an array when called from the frontend using PostMapping. It gives an array of integers as well as the specific sorting algorithm."
   ]
  },
  {
   "cell_type": "code",
   "execution_count": null,
   "metadata": {
    "vscode": {
     "languageId": "java"
    }
   },
   "outputs": [],
   "source": [
    "public class SortingController {\n",
    "\n",
    "    @PostMapping(\"/sort\")\n",
    "    public int[] sortNumbers(@RequestBody int[] numbers, @RequestParam String algorithm) {\n",
    "        switch (algorithm.toLowerCase()) {\n",
    "            case \"merge\":\n",
    "                return mergeSort(numbers);\n",
    "            case \"selection\":\n",
    "                return selectionSort(numbers);\n",
    "            case \"bubble\":\n",
    "                return bubbleSort(numbers);\n",
    "            case \"insertion\":\n",
    "                return insertionSort(numbers);\n",
    "            default:\n",
    "                throw new IllegalArgumentException(\"Invalid sorting algorithm: \" + algorithm);\n",
    "        }\n",
    "    }\n",
    "\n",
    "    // Merge Sort\n",
    "    private int[] mergeSort(int[] array) {\n",
    "        // ...\n",
    "        return array;\n",
    "    }\n",
    "\n",
    "    // Selection Sort\n",
    "    private int[] selectionSort(int[] array) {\n",
    "        // ...\n",
    "        return array;\n",
    "    }\n",
    "\n",
    "    // Bubble Sort\n",
    "    private int[] bubbleSort(int[] array) {\n",
    "        // ...\n",
    "        return array;\n",
    "    }\n",
    "\n",
    "    // Insertion Sort\n",
    "    private int[] insertionSort(int[] array) {\n",
    "        // ...\n",
    "        return array;\n",
    "    }\n",
    "}"
   ]
  },
  {
   "cell_type": "markdown",
   "metadata": {},
   "source": []
  },
  {
   "cell_type": "code",
   "execution_count": null,
   "metadata": {
    "vscode": {
     "languageId": "java"
    }
   },
   "outputs": [],
   "source": []
  }
 ],
 "metadata": {
  "language_info": {
   "name": "python"
  }
 },
 "nbformat": 4,
 "nbformat_minor": 2
}
