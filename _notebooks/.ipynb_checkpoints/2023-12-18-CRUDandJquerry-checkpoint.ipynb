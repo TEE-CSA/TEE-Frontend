{
 "cells": [
  {
   "cell_type": "markdown",
   "metadata": {},
   "source": [
    "---\n",
    "title: CRUD and stuff\n",
    "description: Our lesson on jQuery and CRUD!\n",
    "type: plan\n",
    "courses: { csa: {week: 15} }\n",
    "---"
   ]
  },
  {
   "cell_type": "markdown",
   "metadata": {},
   "source": [
    "## Create"
   ]
  },
  {
   "cell_type": "code",
   "execution_count": 7,
   "metadata": {
    "vscode": {
     "languageId": "javascript"
    }
   },
   "outputs": [
    {
     "data": {
      "application/javascript": [
       "class Person {\n",
       "    constructor(name, grade, favoriteColor) {\n",
       "        this.name = name;\n",
       "        this.grade = grade;\n",
       "        this.favoriteColor = favoriteColor;\n",
       "    }\n",
       "}\n",
       "\n",
       "// Sample people objects\n",
       "const person1 = new Person(\"John Doe\", \"A\", \"Blue\");\n",
       "const person2 = new Person(\"Jane Smith\", \"B\", \"Red\");\n",
       "const person3 = new Person(\"Bob Johnson\", \"C\", \"Green\");\n",
       "\n",
       "// Array to store people objects\n",
       "const people = [person1, person2, person3];\n",
       "\n",
       "\n",
       "for (let i = 0; i < people.length; i++) {\n",
       "    console.log(people[i]);\n",
       "}\n"
      ],
      "text/plain": [
       "<IPython.core.display.Javascript object>"
      ]
     },
     "metadata": {},
     "output_type": "display_data"
    }
   ],
   "source": [
    "%%js\n",
    "class Person {\n",
    "    constructor(name, grade, favoriteColor) {\n",
    "        this.name = name;\n",
    "        this.grade = grade;\n",
    "        this.favoriteColor = favoriteColor;\n",
    "    }\n",
    "}\n",
    "\n",
    "// Sample people objects\n",
    "const person1 = new Person(\"John Doe\", \"A\", \"Blue\");\n",
    "const person2 = new Person(\"Jane Smith\", \"B\", \"Red\");\n",
    "const person3 = new Person(\"Bob Johnson\", \"C\", \"Green\");\n",
    "\n",
    "// Array to store people objects\n",
    "const people = [person1, person2, person3];\n",
    "\n",
    "\n",
    "for (let i = 0; i < people.length; i++) {\n",
    "    console.log(people[i]);\n",
    "}"
   ]
  },
  {
   "cell_type": "markdown",
   "metadata": {},
   "source": [
    "## Read"
   ]
  },
  {
   "cell_type": "code",
   "execution_count": 8,
   "metadata": {
    "vscode": {
     "languageId": "html"
    }
   },
   "outputs": [
    {
     "data": {
      "text/html": [
       "\n",
       "<table>\n",
       "    <thead>\n",
       "        <th>Name</th>\n",
       "        <th>Grade</th>\n",
       "        <th>Favorite Color</th>\n",
       "    </thead>\n",
       "    <tbody id=\"result\">\n",
       "    </tbody>\n",
       "</table>\n",
       "\n",
       "<script>\n",
       "    class Person {\n",
       "        constructor(name, grade, favoriteColor) {\n",
       "            this.name = name;\n",
       "            this.grade = grade;\n",
       "            this.favoriteColor = favoriteColor;\n",
       "        }\n",
       "    }\n",
       "\n",
       "    // Sample people objects\n",
       "    const person1 = new Person(\"John Doe\", \"A\", \"Blue\");\n",
       "    const person2 = new Person(\"Jane Smith\", \"B\", \"Red\");\n",
       "    const person3 = new Person(\"Bob Johnson\", \"C\", \"Green\");\n",
       "\n",
       "    // Array to store people objects\n",
       "    const people = [person1, person2, person3];\n",
       "\n",
       "    // Function to populate the table with people objects\n",
       "    function populateTable() {\n",
       "        const tableBody = document.getElementById('result');\n",
       "\n",
       "        // Clear existing rows\n",
       "        tableBody.innerHTML = '';\n",
       "\n",
       "        // Loop through the people array and create a row for each person\n",
       "        people.forEach(person => {\n",
       "            const row = tableBody.insertRow();\n",
       "            const cell1 = row.insertCell(0);\n",
       "            const cell2 = row.insertCell(1);\n",
       "            const cell3 = row.insertCell(2);\n",
       "\n",
       "            cell1.textContent = person.name;\n",
       "            cell2.textContent = person.grade;\n",
       "            cell3.textContent = person.favoriteColor;\n",
       "        });\n",
       "    }\n",
       "\n",
       "    // Call the function to initially populate the table\n",
       "    populateTable();\n",
       "</script>\n"
      ],
      "text/plain": [
       "<IPython.core.display.HTML object>"
      ]
     },
     "metadata": {},
     "output_type": "display_data"
    }
   ],
   "source": [
    "%%HTML\n",
    "\n",
    "<table>\n",
    "    <thead>\n",
    "        <th>Name</th>\n",
    "        <th>Grade</th>\n",
    "        <th>Favorite Color</th>\n",
    "    </thead>\n",
    "    <tbody id=\"result\">\n",
    "    </tbody>\n",
    "</table>\n",
    "\n",
    "<script>\n",
    "    class Person {\n",
    "        constructor(name, grade, favoriteColor) {\n",
    "            this.name = name;\n",
    "            this.grade = grade;\n",
    "            this.favoriteColor = favoriteColor;\n",
    "        }\n",
    "    }\n",
    "\n",
    "    // Sample people objects\n",
    "    const person1 = new Person(\"John Doe\", \"A\", \"Blue\");\n",
    "    const person2 = new Person(\"Jane Smith\", \"B\", \"Red\");\n",
    "    const person3 = new Person(\"Bob Johnson\", \"C\", \"Green\");\n",
    "\n",
    "    // Array to store people objects\n",
    "    const people = [person1, person2, person3];\n",
    "\n",
    "    // Function to populate the table with people objects\n",
    "    function populateTable() {\n",
    "        const tableBody = document.getElementById('result');\n",
    "\n",
    "        // Clear existing rows\n",
    "        tableBody.innerHTML = '';\n",
    "\n",
    "        // Loop through the people array and create a row for each person\n",
    "        people.forEach(person => {\n",
    "            const row = tableBody.insertRow();\n",
    "            const cell1 = row.insertCell(0);\n",
    "            const cell2 = row.insertCell(1);\n",
    "            const cell3 = row.insertCell(2);\n",
    "\n",
    "            cell1.textContent = person.name;\n",
    "            cell2.textContent = person.grade;\n",
    "            cell3.textContent = person.favoriteColor;\n",
    "        });\n",
    "    }\n",
    "\n",
    "    // Call the function to initially populate the table\n",
    "    populateTable();\n",
    "</script>"
   ]
  },
  {
   "cell_type": "markdown",
   "metadata": {},
   "source": [
    "## Update"
   ]
  },
  {
   "cell_type": "markdown",
   "metadata": {},
   "source": [
    "## Delete"
   ]
  }
 ],
 "metadata": {
  "kernelspec": {
   "display_name": "Python 3 (ipykernel)",
   "language": "python",
   "name": "python3"
  },
  "language_info": {
   "codemirror_mode": {
    "name": "ipython",
    "version": 3
   },
   "file_extension": ".py",
   "mimetype": "text/x-python",
   "name": "python",
   "nbconvert_exporter": "python",
   "pygments_lexer": "ipython3",
   "version": "3.9.12"
  }
 },
 "nbformat": 4,
 "nbformat_minor": 2
}
