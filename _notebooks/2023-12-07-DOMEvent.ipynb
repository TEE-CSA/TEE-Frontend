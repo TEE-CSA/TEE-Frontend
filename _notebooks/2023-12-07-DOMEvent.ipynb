{
 "cells": [
  {
   "cell_type": "markdown",
   "metadata": {},
   "source": [
    "---\n",
    "title: DOM Manipulation and Event Handling\n",
    "description: Advanced usage of jQuery. \n",
    "type: plan\n",
    "courses: { csa: {week: 15} }\n",
    "---"
   ]
  },
  {
   "cell_type": "markdown",
   "metadata": {},
   "source": [
    "# Introduction to DOM\n",
    "\n",
    "One of the most useful abilities of JavaScript (and thus jQuery) is its ability to manipulate the DOM. But what is the DOM?"
   ]
  },
  {
   "cell_type": "markdown",
   "metadata": {},
   "source": [
    "# Overview of DOM\n",
    "\n",
    "The DOM, short for Document Object Model, is a standard that allows us to create, change, or remove elements from HTML or XML documents. \n",
    "\n",
    "Some operations that you can perform on DOM elements include...\n",
    "\n",
    "- Extracting the content of an element\n",
    "- Changing the content of an element\n",
    "- Adding an element before or after an existing element\n",
    "- Replacing an existing element with another element\n",
    "- Deleting an element\n",
    "- And many more!"
   ]
  },
  {
   "cell_type": "markdown",
   "metadata": {},
   "source": [
    "## jQuery Get Methods"
   ]
  },
  {
   "cell_type": "markdown",
   "metadata": {},
   "source": [
    "### text() method\n",
    "\n",
    "The jQuery text method, as its name implies, simply returns the plain text value of the content.\n",
    "\n",
    "Below is an example of an application of the text() method:\n",
    "\n",
    "\n",
    "### html() method\n",
    "\n",
    "The jQuery html method returns the plain text value of the content too, but it also returns it with HTML tags."
   ]
  },
  {
   "cell_type": "markdown",
   "metadata": {},
   "source": [
    "### Example "
   ]
  },
  {
   "cell_type": "markdown",
   "metadata": {},
   "source": [
    "```\n",
    "<div id=\"info\">\n",
    "  <p class=\"name\">John Doe</p>\n",
    "  <p class=\"description\">\n",
    "    <span>Web Developer</span> at <a href=\"#\">TechCorp</a>\n",
    "  </p>\n",
    "</div>\n",
    "```"
   ]
  },
  {
   "cell_type": "markdown",
   "metadata": {},
   "source": [
    "#### text() method use"
   ]
  },
  {
   "cell_type": "code",
   "execution_count": null,
   "metadata": {},
   "outputs": [],
   "source": [
    "var descriptionText = $(\".description\").text();\n",
    "console.log(descriptionText);\n",
    "\n",
    "// with the text() method, this would output the plain text value of description \n",
    "// output: 'Developer at TechCorp'"
   ]
  },
  {
   "cell_type": "markdown",
   "metadata": {},
   "source": [
    "- jQuery .text() method is used to retrieve the plain text content from the element with the class description ('Developer at TechCorp')\n",
    "- The $(\".description\").text() part selects the element with class description and then gets its textual content without any HTML tags."
   ]
  },
  {
   "cell_type": "markdown",
   "metadata": {},
   "source": [
    "#### html() method use"
   ]
  },
  {
   "cell_type": "code",
   "execution_count": null,
   "metadata": {},
   "outputs": [],
   "source": [
    "var descriptionHTML = $(\".description\").html();\n",
    "console.log(descriptionHTML);\n",
    "\n",
    "// with the html() method, this would output the HTML content of the element with all the HTML tags\n",
    "// output:'<span>Web Developer</span> at <a href=\"#\">TechCorp</a>'"
   ]
  },
  {
   "cell_type": "markdown",
   "metadata": {},
   "source": [
    "- The .html() method is used to fetch the HTML content from the same description element\n",
    "- $(\".description\").html() selects the description element and also its inner HTML content, including the HTML tags like <span> and <a> "
   ]
  },
  {
   "cell_type": "markdown",
   "metadata": {},
   "source": [
    "# Event Handling"
   ]
  },
  {
   "cell_type": "markdown",
   "metadata": {},
   "source": [
    "## Events\n",
    "\n",
    "Events refer to the various actions or occurrences that happen in the web browser, which can be detected and responded to with JavaScript\n",
    "\n",
    "Some types of events include...\n",
    "- keyboard events (keypress, keyup, etc.)\n",
    "- form events (ex. submit)\n",
    "- document/window events (resize, load, etc.)"
   ]
  },
  {
   "cell_type": "markdown",
   "metadata": {},
   "source": [
    "### Examples"
   ]
  },
  {
   "cell_type": "markdown",
   "metadata": {},
   "source": [
    "#### Event Handler for Clicking a Button"
   ]
  },
  {
   "cell_type": "markdown",
   "metadata": {},
   "source": [
    "```\n",
    "<button id=\"clickButton\">Click Me!</button>\n",
    "\n",
    "```\n"
   ]
  },
  {
   "cell_type": "code",
   "execution_count": null,
   "metadata": {},
   "outputs": [],
   "source": [
    "$(\"#clickButton\").click(function() {\n",
    "    alert(\"Button was clicked!\");\n",
    "  });"
   ]
  },
  {
   "cell_type": "markdown",
   "metadata": {},
   "source": [
    "Breakdown:\n",
    "\n",
    "- In this first example, the jQuery code sets up an event handler for the click event on the button with the ID ```clickButton```\n",
    "- When the button is clicked, an alert box displays the message, \"Button was clicked!\""
   ]
  },
  {
   "cell_type": "markdown",
   "metadata": {},
   "source": [
    "#### Event Handler for Form Submit"
   ]
  },
  {
   "cell_type": "markdown",
   "metadata": {},
   "source": [
    "```\n",
    "<form id=\"myForm\">\n",
    "  <input type=\"text\" placeholder=\"Enter text\">\n",
    "  <input type=\"submit\" value=\"Submit\">\n",
    "</form>\n",
    "<div id=\"formOutput\"></div>\n",
    "```"
   ]
  },
  {
   "cell_type": "code",
   "execution_count": null,
   "metadata": {},
   "outputs": [],
   "source": [
    "$(\"#myForm\").submit(function(event) {\n",
    "    event.preventDefault(); \n",
    "    var enteredText = $(this).find(\"input[type='text']\").val();\n",
    "    $(\"#formOutput\").text(\"You entered: \" + enteredText);\n",
    "  });\n",
    "  "
   ]
  },
  {
   "cell_type": "markdown",
   "metadata": {},
   "source": [
    "Breakdown:\n",
    "\n",
    "- In this code segment, the jQuery script handles the submit event of the form with the ID ```myForm```.\n",
    "- The event.preventDefault() method stops the form from being submitted in the traditional way (clicking the submit button), which prevents the page from reloading.\n",
    "- It gets the text entered in the text input field and displays it in a div with the ID ```formOutput```."
   ]
  },
  {
   "cell_type": "markdown",
   "metadata": {},
   "source": [
    "#### Event Handler for Mouse Enter/Leave"
   ]
  },
  {
   "cell_type": "markdown",
   "metadata": {},
   "source": [
    "```<div id=\"hoverDiv\">Hover over me!</div>```\n"
   ]
  },
  {
   "cell_type": "code",
   "execution_count": null,
   "metadata": {},
   "outputs": [],
   "source": [
    "$(\"#hoverDiv\").mouseenter(function() {\n",
    "    $(this).css(\"background-color\", \"green\");\n",
    "  }).mouseleave(function() {\n",
    "    $(this).css(\"background-color\", \"red\");\n",
    "  });"
   ]
  },
  {
   "cell_type": "markdown",
   "metadata": {},
   "source": [
    "Breakdown:\n",
    "- The code attaches two event handlers to the div with ID hoverDiv. (for when the mouse enters and leaves the div)\n",
    "- When the mouse hovers over the div (mouseenter event), the background color changes to green.\n",
    "- When the mouse leaves the div (mouseleave event), the background color changes to red."
   ]
  }
 ],
 "metadata": {
  "kernelspec": {
   "display_name": "JavaScript (Node.js)",
   "language": "javascript",
   "name": "javascript"
  },
  "language_info": {
   "name": "javascript"
  }
 },
 "nbformat": 4,
 "nbformat_minor": 2
}
