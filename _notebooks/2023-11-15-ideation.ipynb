{
 "cells": [
  {
   "cell_type": "markdown",
   "metadata": {},
   "source": [
    "---\n",
    "title: Mini-Project Ideation and Planning\n",
    "description: Blog about plans\n",
    "type: plan\n",
    "courses: { csa: {week 1} }\n",
    "---"
   ]
  },
  {
   "cell_type": "markdown",
   "metadata": {},
   "source": [
    "# Our Idea \n",
    "\n",
    "We want to create a race game between multiple sorting algorithms that will allow users to see which sorting algorithm is the most efficient. To incorporate fibonacci, we will make two different game modes: one for sorting and one for fibonacci.\n",
    "\n",
    "## Sorting\n",
    "\n",
    "- Treating each sorting algorithm as their separate \"avatars\" or characters for the player\n",
    "- Comparing the time that it takes for each algorithm to sort out a list of numbers of size n from least to greatest\n",
    "- Also a game mode for the player can choose from (along with fibonacci)\n",
    "\n",
    "### Inheritance\n",
    "\n",
    "- Create a superclass for the common attributes of each sorting algorithm (ex. class Sort)\n",
    "- Create multiple subclasses for the specific sorting algorithms\n",
    "    - Set up before writing the actual methods for bubble sort, merge sort, etc."
   ]
  },
  {
   "cell_type": "code",
   "execution_count": null,
   "metadata": {
    "vscode": {
     "languageId": "java"
    }
   },
   "outputs": [],
   "source": [
    "\n",
    "public class SortingController {\n",
    "\n",
    "    @PostMapping(\"/sort\")\n",
    "    public int[] sortNumbers(@RequestBody int[] numbers, @RequestParam String algorithm) {\n",
    "        switch (algorithm.toLowerCase()) {\n",
    "            case \"merge\":\n",
    "                return mergeSort(numbers);\n",
    "            case \"selection\":\n",
    "                return selectionSort(numbers);\n",
    "            case \"bubble\":\n",
    "                return bubbleSort(numbers);\n",
    "            case \"insertion\":\n",
    "                return insertionSort(numbers);\n",
    "            default:\n",
    "                throw new IllegalArgumentException(\"Invalid sorting algorithm: \" + algorithm);\n",
    "        }\n",
    "    }\n",
    "\n",
    "    // Merge Sort\n",
    "    private int[] mergeSort(int[] array) {\n",
    "        // ...\n",
    "        return array;\n",
    "    }\n",
    "\n",
    "    // Selection Sort\n",
    "    private int[] selectionSort(int[] array) {\n",
    "        // ...\n",
    "        return array;\n",
    "    }\n",
    "\n",
    "    // Bubble Sort\n",
    "    private int[] bubbleSort(int[] array) {\n",
    "        // ...\n",
    "        return array;\n",
    "    }\n",
    "\n",
    "    // Insertion Sort\n",
    "    private int[] insertionSort(int[] array) {\n",
    "        // ...\n",
    "        return array;\n",
    "    }\n",
    "}\n",
    "   "
   ]
  }
 ],
 "metadata": {
  "language_info": {
   "name": "python"
  }
 },
 "nbformat": 4,
 "nbformat_minor": 2
}
