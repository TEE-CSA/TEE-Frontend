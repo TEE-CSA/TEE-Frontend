{
 "cells": [
  {
   "cell_type": "markdown",
   "metadata": {},
   "source": [
    "---\n",
    "title: Mini-Project Ideation and Planning\n",
    "description: Blog about plans\n",
    "type: plan\n",
    "courses: { csa: {week: 13} }\n",
    "---"
   ]
  },
  {
   "cell_type": "markdown",
   "metadata": {},
   "source": [
    "# Our Idea \n",
    "\n",
    "We want to create a race game between multiple sorting algorithms and Fibonacci methods that will allow users to see which sorting algorithm is the most efficient. To incorporate fibonacci, we will make two different game modes: one for sorting and one for fibonacci.\n",
    "\n",
    "## Sorting\n",
    "\n",
    "- Treating each sorting algorithm as their separate \"avatars\" or characters for the player\n",
    "- Comparing the time that it takes for each algorithm to sort out a list of numbers of size n from least to greatest\n",
    "- Users choose the avatar - the algorithm - that they think will be fastest\n",
    "- They also input the amount of integers in the array and our code will randomly generate that amount\n",
    "\n",
    "## Fibonacci\n",
    "\n",
    "- Will be similar to sorting race\n",
    "- Instead of sorting algorithms, different fibonacci methods represent the avatars\n",
    "    - Different methods may be for loop, while loop, recursion, matrices, etc.\n",
    "- Users can choose some Fibonacci number and see how long each method takes to generate that number\n",
    "\n",
    "### Inheritance\n",
    "\n",
    "- Create a superclass for the common attributes of each sorting algorithm (ex. class Sort)\n",
    "- Create multiple subclasses for the specific sorting algorithms\n",
    "    - Set up before writing the actual methods for bubble sort, merge sort, etc."
   ]
  },
  {
   "cell_type": "code",
   "execution_count": null,
   "metadata": {
    "vscode": {
     "languageId": "java"
    }
   },
   "outputs": [],
   "source": [
    "\n",
    "public class SortingController {\n",
    "\n",
    "    @PostMapping(\"/sort\")\n",
    "    public int[] sortNumbers(@RequestBody int[] numbers, @RequestParam String algorithm) {\n",
    "        switch (algorithm.toLowerCase()) {\n",
    "            case \"merge\":\n",
    "                return mergeSort(numbers);\n",
    "            case \"selection\":\n",
    "                return selectionSort(numbers);\n",
    "            case \"bubble\":\n",
    "                return bubbleSort(numbers);\n",
    "            case \"insertion\":\n",
    "                return insertionSort(numbers);\n",
    "            default:\n",
    "                throw new IllegalArgumentException(\"Invalid sorting algorithm: \" + algorithm);\n",
    "        }\n",
    "    }\n",
    "\n",
    "    // Merge Sort\n",
    "    private int[] mergeSort(int[] array) {\n",
    "        // ...\n",
    "        return array;\n",
    "    }\n",
    "\n",
    "    // Selection Sort\n",
    "    private int[] selectionSort(int[] array) {\n",
    "        // ...\n",
    "        return array;\n",
    "    }\n",
    "\n",
    "    // Bubble Sort\n",
    "    private int[] bubbleSort(int[] array) {\n",
    "        // ...\n",
    "        return array;\n",
    "    }\n",
    "\n",
    "    // Insertion Sort\n",
    "    private int[] insertionSort(int[] array) {\n",
    "        // ...\n",
    "        return array;\n",
    "    }\n",
    "}\n",
    "   "
   ]
  },
  {
   "cell_type": "markdown",
   "metadata": {},
   "source": [
    "# Betting \n",
    "\n",
    "- The user will start the game with a fixed number of points (ex. 500) \n",
    "- The user will be able to bet a certain number of points on an algorithm winning the race (ex. could be 150 points)\n",
    "- Two possible outcomes\n",
    "    - If their guess is correct, the user can win double the amount that they bet (continuing from the above example, the user would win 150 x 2 = 300 points, giving them a total of 800 points)\n",
    "    - If their guess is wrong, the user will lose how ever much they bet (ex. they would lose 150 points, bringing their points down to 350)"
   ]
  },
  {
   "cell_type": "markdown",
   "metadata": {},
   "source": [
    "```java\n",
    "// pseudo code\n",
    "\n",
    "public class Points {\n",
    "    int score = 500;\n",
    "    int bet;\n",
    "\n",
    "    boolean isCorrect;\n",
    "\n",
    "    if(isCorrect){\n",
    "        score += 2*bet;\n",
    "    } else {\n",
    "        score -= bet;\n",
    "    }\n",
    "\n",
    "}\n",
    "```"
   ]
  }
 ],
 "metadata": {
  "language_info": {
   "name": "python"
  }
 },
 "nbformat": 4,
 "nbformat_minor": 2
}
